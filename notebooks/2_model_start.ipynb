{
 "cells": [
  {
   "cell_type": "code",
   "execution_count": 1,
   "metadata": {},
   "outputs": [],
   "source": [
    "import pandas as pd\n",
    "import numpy as np\n",
    "import matplotlib.pyplot as plt\n",
    "%matplotlib inline\n",
    "import glob\n",
    "import cv2\n",
    "from PIL import Image\n",
    "from tqdm import tqdm\n",
    "\n"
   ]
  },
  {
   "cell_type": "code",
   "execution_count": 2,
   "metadata": {},
   "outputs": [
    {
     "name": "stdout",
     "output_type": "stream",
     "text": [
      "(147793, 5)\n"
     ]
    },
    {
     "data": {
      "text/html": [
       "<div>\n",
       "<style scoped>\n",
       "    .dataframe tbody tr th:only-of-type {\n",
       "        vertical-align: middle;\n",
       "    }\n",
       "\n",
       "    .dataframe tbody tr th {\n",
       "        vertical-align: top;\n",
       "    }\n",
       "\n",
       "    .dataframe thead th {\n",
       "        text-align: right;\n",
       "    }\n",
       "</style>\n",
       "<table border=\"1\" class=\"dataframe\">\n",
       "  <thead>\n",
       "    <tr style=\"text-align: right;\">\n",
       "      <th></th>\n",
       "      <th>image_id</th>\n",
       "      <th>width</th>\n",
       "      <th>height</th>\n",
       "      <th>bbox</th>\n",
       "      <th>source</th>\n",
       "    </tr>\n",
       "  </thead>\n",
       "  <tbody>\n",
       "    <tr>\n",
       "      <td>0</td>\n",
       "      <td>b6ab77fd7</td>\n",
       "      <td>1024</td>\n",
       "      <td>1024</td>\n",
       "      <td>[834.0, 222.0, 56.0, 36.0]</td>\n",
       "      <td>usask_1</td>\n",
       "    </tr>\n",
       "    <tr>\n",
       "      <td>1</td>\n",
       "      <td>b6ab77fd7</td>\n",
       "      <td>1024</td>\n",
       "      <td>1024</td>\n",
       "      <td>[226.0, 548.0, 130.0, 58.0]</td>\n",
       "      <td>usask_1</td>\n",
       "    </tr>\n",
       "    <tr>\n",
       "      <td>2</td>\n",
       "      <td>b6ab77fd7</td>\n",
       "      <td>1024</td>\n",
       "      <td>1024</td>\n",
       "      <td>[377.0, 504.0, 74.0, 160.0]</td>\n",
       "      <td>usask_1</td>\n",
       "    </tr>\n",
       "    <tr>\n",
       "      <td>3</td>\n",
       "      <td>b6ab77fd7</td>\n",
       "      <td>1024</td>\n",
       "      <td>1024</td>\n",
       "      <td>[834.0, 95.0, 109.0, 107.0]</td>\n",
       "      <td>usask_1</td>\n",
       "    </tr>\n",
       "    <tr>\n",
       "      <td>4</td>\n",
       "      <td>b6ab77fd7</td>\n",
       "      <td>1024</td>\n",
       "      <td>1024</td>\n",
       "      <td>[26.0, 144.0, 124.0, 117.0]</td>\n",
       "      <td>usask_1</td>\n",
       "    </tr>\n",
       "  </tbody>\n",
       "</table>\n",
       "</div>"
      ],
      "text/plain": [
       "    image_id  width  height                         bbox   source\n",
       "0  b6ab77fd7   1024    1024   [834.0, 222.0, 56.0, 36.0]  usask_1\n",
       "1  b6ab77fd7   1024    1024  [226.0, 548.0, 130.0, 58.0]  usask_1\n",
       "2  b6ab77fd7   1024    1024  [377.0, 504.0, 74.0, 160.0]  usask_1\n",
       "3  b6ab77fd7   1024    1024  [834.0, 95.0, 109.0, 107.0]  usask_1\n",
       "4  b6ab77fd7   1024    1024  [26.0, 144.0, 124.0, 117.0]  usask_1"
      ]
     },
     "execution_count": 2,
     "metadata": {},
     "output_type": "execute_result"
    }
   ],
   "source": [
    "# read raw train data\n",
    "train = pd.read_csv(\"../data/train.csv\")\n",
    "print(train.shape)\n",
    "train.head()"
   ]
  },
  {
   "cell_type": "code",
   "execution_count": 21,
   "metadata": {},
   "outputs": [
    {
     "name": "stdout",
     "output_type": "stream",
     "text": [
      "(147793, 5)\n"
     ]
    },
    {
     "data": {
      "text/html": [
       "<div>\n",
       "<style scoped>\n",
       "    .dataframe tbody tr th:only-of-type {\n",
       "        vertical-align: middle;\n",
       "    }\n",
       "\n",
       "    .dataframe tbody tr th {\n",
       "        vertical-align: top;\n",
       "    }\n",
       "\n",
       "    .dataframe thead th {\n",
       "        text-align: right;\n",
       "    }\n",
       "</style>\n",
       "<table border=\"1\" class=\"dataframe\">\n",
       "  <thead>\n",
       "    <tr style=\"text-align: right;\">\n",
       "      <th></th>\n",
       "      <th>image_id</th>\n",
       "      <th>xmin</th>\n",
       "      <th>ymin</th>\n",
       "      <th>xmax</th>\n",
       "      <th>ymax</th>\n",
       "    </tr>\n",
       "  </thead>\n",
       "  <tbody>\n",
       "    <tr>\n",
       "      <td>0</td>\n",
       "      <td>b6ab77fd7.jpg</td>\n",
       "      <td>834.0</td>\n",
       "      <td>222.0</td>\n",
       "      <td>890.0</td>\n",
       "      <td>258.0</td>\n",
       "    </tr>\n",
       "    <tr>\n",
       "      <td>1</td>\n",
       "      <td>b6ab77fd7.jpg</td>\n",
       "      <td>226.0</td>\n",
       "      <td>548.0</td>\n",
       "      <td>356.0</td>\n",
       "      <td>606.0</td>\n",
       "    </tr>\n",
       "    <tr>\n",
       "      <td>2</td>\n",
       "      <td>b6ab77fd7.jpg</td>\n",
       "      <td>377.0</td>\n",
       "      <td>504.0</td>\n",
       "      <td>451.0</td>\n",
       "      <td>664.0</td>\n",
       "    </tr>\n",
       "    <tr>\n",
       "      <td>3</td>\n",
       "      <td>b6ab77fd7.jpg</td>\n",
       "      <td>834.0</td>\n",
       "      <td>95.0</td>\n",
       "      <td>943.0</td>\n",
       "      <td>202.0</td>\n",
       "    </tr>\n",
       "    <tr>\n",
       "      <td>4</td>\n",
       "      <td>b6ab77fd7.jpg</td>\n",
       "      <td>26.0</td>\n",
       "      <td>144.0</td>\n",
       "      <td>150.0</td>\n",
       "      <td>261.0</td>\n",
       "    </tr>\n",
       "  </tbody>\n",
       "</table>\n",
       "</div>"
      ],
      "text/plain": [
       "        image_id   xmin   ymin   xmax   ymax\n",
       "0  b6ab77fd7.jpg  834.0  222.0  890.0  258.0\n",
       "1  b6ab77fd7.jpg  226.0  548.0  356.0  606.0\n",
       "2  b6ab77fd7.jpg  377.0  504.0  451.0  664.0\n",
       "3  b6ab77fd7.jpg  834.0   95.0  943.0  202.0\n",
       "4  b6ab77fd7.jpg   26.0  144.0  150.0  261.0"
      ]
     },
     "execution_count": 21,
     "metadata": {},
     "output_type": "execute_result"
    }
   ],
   "source": [
    "# read clean wheat data\n",
    "wheat = pd.read_csv(\"wheat.csv\")\n",
    "print(wheat.shape)\n",
    "wheat.head()"
   ]
  },
  {
   "cell_type": "markdown",
   "metadata": {},
   "source": [
    "### Train / Valid split\n",
    "\n",
    "- **usask_1** and **rres_1** as validation set.\n",
    "- Number of images roughly 20%."
   ]
  },
  {
   "cell_type": "code",
   "execution_count": 17,
   "metadata": {},
   "outputs": [
    {
     "data": {
      "text/plain": [
       "632"
      ]
     },
     "execution_count": 17,
     "metadata": {},
     "output_type": "execute_result"
    }
   ],
   "source": [
    "# carve out a validation set from 2 sources\n",
    "valid_id = train.loc[train.source.isin([\"usask_1\", \"rres_1\"])].image_id.unique()\n",
    "len(valid_id)"
   ]
  },
  {
   "cell_type": "code",
   "execution_count": 19,
   "metadata": {},
   "outputs": [],
   "source": [
    "valid_id = [Id+\".jpg\" for Id in valid_id]  # image_id of validation set"
   ]
  },
  {
   "cell_type": "code",
   "execution_count": 25,
   "metadata": {},
   "outputs": [
    {
     "name": "stdout",
     "output_type": "stream",
     "text": [
      "train: (121750, 5) valid: (26043, 5)\n"
     ]
    }
   ],
   "source": [
    "train_wheat = wheat.loc[~wheat.image_id.isin(valid_id)].reset_index(drop=True)\n",
    "valid_wheat = wheat.loc[wheat.image_id.isin(valid_id)].reset_index(drop=True)\n",
    "print(\"train:\", train_wheat.shape, \"valid:\", valid_wheat.shape)"
   ]
  },
  {
   "cell_type": "code",
   "execution_count": 26,
   "metadata": {},
   "outputs": [
    {
     "data": {
      "text/html": [
       "<div>\n",
       "<style scoped>\n",
       "    .dataframe tbody tr th:only-of-type {\n",
       "        vertical-align: middle;\n",
       "    }\n",
       "\n",
       "    .dataframe tbody tr th {\n",
       "        vertical-align: top;\n",
       "    }\n",
       "\n",
       "    .dataframe thead th {\n",
       "        text-align: right;\n",
       "    }\n",
       "</style>\n",
       "<table border=\"1\" class=\"dataframe\">\n",
       "  <thead>\n",
       "    <tr style=\"text-align: right;\">\n",
       "      <th></th>\n",
       "      <th>image_id</th>\n",
       "      <th>xmin</th>\n",
       "      <th>ymin</th>\n",
       "      <th>xmax</th>\n",
       "      <th>ymax</th>\n",
       "    </tr>\n",
       "  </thead>\n",
       "  <tbody>\n",
       "    <tr>\n",
       "      <td>0</td>\n",
       "      <td>44c60402e.jpg</td>\n",
       "      <td>830.0</td>\n",
       "      <td>21.0</td>\n",
       "      <td>896.0</td>\n",
       "      <td>78.0</td>\n",
       "    </tr>\n",
       "    <tr>\n",
       "      <td>1</td>\n",
       "      <td>44c60402e.jpg</td>\n",
       "      <td>752.0</td>\n",
       "      <td>0.0</td>\n",
       "      <td>804.0</td>\n",
       "      <td>49.0</td>\n",
       "    </tr>\n",
       "    <tr>\n",
       "      <td>2</td>\n",
       "      <td>44c60402e.jpg</td>\n",
       "      <td>321.0</td>\n",
       "      <td>0.0</td>\n",
       "      <td>467.0</td>\n",
       "      <td>32.0</td>\n",
       "    </tr>\n",
       "    <tr>\n",
       "      <td>3</td>\n",
       "      <td>44c60402e.jpg</td>\n",
       "      <td>363.0</td>\n",
       "      <td>32.0</td>\n",
       "      <td>471.0</td>\n",
       "      <td>97.0</td>\n",
       "    </tr>\n",
       "    <tr>\n",
       "      <td>4</td>\n",
       "      <td>44c60402e.jpg</td>\n",
       "      <td>555.0</td>\n",
       "      <td>63.0</td>\n",
       "      <td>612.0</td>\n",
       "      <td>109.0</td>\n",
       "    </tr>\n",
       "  </tbody>\n",
       "</table>\n",
       "</div>"
      ],
      "text/plain": [
       "        image_id   xmin  ymin   xmax   ymax\n",
       "0  44c60402e.jpg  830.0  21.0  896.0   78.0\n",
       "1  44c60402e.jpg  752.0   0.0  804.0   49.0\n",
       "2  44c60402e.jpg  321.0   0.0  467.0   32.0\n",
       "3  44c60402e.jpg  363.0  32.0  471.0   97.0\n",
       "4  44c60402e.jpg  555.0  63.0  612.0  109.0"
      ]
     },
     "execution_count": 26,
     "metadata": {},
     "output_type": "execute_result"
    }
   ],
   "source": [
    "train_wheat.head()"
   ]
  },
  {
   "cell_type": "code",
   "execution_count": 27,
   "metadata": {},
   "outputs": [
    {
     "data": {
      "text/plain": [
       "array(['44c60402e.jpg', '6e3da4ae3.jpg', 'd8616bdd1.jpg', ...,\n",
       "       'a5c8d5f5c.jpg', 'e6b5e296d.jpg', '5e0747034.jpg'], dtype=object)"
      ]
     },
     "execution_count": 27,
     "metadata": {},
     "output_type": "execute_result"
    }
   ],
   "source": [
    "train_wheat.image_id.unique()"
   ]
  },
  {
   "cell_type": "code",
   "execution_count": null,
   "metadata": {},
   "outputs": [],
   "source": [
    "class WheatDataSet(Dataset):\n",
    "    def __init__(self, df, folder):\n",
    "        self.image_ids = df.image_id.unique()\n",
    "        self.folder = folder\n",
    "    \n",
    "    def __getitem__(self, index):\n",
    "        # get image and transform\n",
    "        image_id = self.image_ids[index]\n",
    "        image = cv2.imread(f\"{self.folder}/{image_id}\", cv2.IMREAD_COLOR)  # Convert to B G R channels\n",
    "#         tmp, image[:, :, 0], image[:, :, 2] = image[:, :, 0], image[:, :, 2], tmp  # swap BGR to RGB\n",
    "        image = cv2.cvtColor(image, cv2.COLOR_BGR2RGB).astype(np.float32)\n",
    "        image /= 255.0  # normalize to 0~1\n",
    "        \n",
    "        "
   ]
  },
  {
   "cell_type": "code",
   "execution_count": 42,
   "metadata": {
    "collapsed": true,
    "jupyter": {
     "outputs_hidden": true
    }
   },
   "outputs": [
    {
     "data": {
      "text/plain": [
       "array([[[ 11,  28,   9],\n",
       "        [ 14,  31,  12],\n",
       "        [ 18,  35,  16],\n",
       "        ...,\n",
       "        [ 95, 117,  55],\n",
       "        [122, 142,  81],\n",
       "        [126, 146,  85]],\n",
       "\n",
       "       [[  9,  26,   7],\n",
       "        [ 11,  28,   9],\n",
       "        [ 14,  31,  12],\n",
       "        ...,\n",
       "        [137, 160,  92],\n",
       "        [113, 136,  68],\n",
       "        [ 90, 113,  45]],\n",
       "\n",
       "       [[  7,  24,   5],\n",
       "        [  8,  25,   6],\n",
       "        [ 10,  27,   8],\n",
       "        ...,\n",
       "        [157, 185, 108],\n",
       "        [112, 139,  62],\n",
       "        [ 77, 104,  27]],\n",
       "\n",
       "       ...,\n",
       "\n",
       "       [[ 27,  72,   5],\n",
       "        [ 56, 101,  34],\n",
       "        [108, 153,  84],\n",
       "        ...,\n",
       "        [ 10,  33,   5],\n",
       "        [  9,  32,   4],\n",
       "        [  8,  33,   3]],\n",
       "\n",
       "       [[  0,  39,   0],\n",
       "        [ 20,  67,   0],\n",
       "        [ 81, 126,  57],\n",
       "        ...,\n",
       "        [ 12,  35,   6],\n",
       "        [ 10,  35,   3],\n",
       "        [ 10,  35,   3]],\n",
       "\n",
       "       [[  8,  58,   0],\n",
       "        [ 19,  66,   0],\n",
       "        [ 78, 125,  55],\n",
       "        ...,\n",
       "        [ 11,  35,   3],\n",
       "        [ 10,  35,   3],\n",
       "        [ 10,  36,   1]]], dtype=uint8)"
      ]
     },
     "execution_count": 42,
     "metadata": {},
     "output_type": "execute_result"
    }
   ],
   "source": [
    "np.array(Image.open(\"../data/train/44c60402e.jpg\"))"
   ]
  },
  {
   "cell_type": "code",
   "execution_count": null,
   "metadata": {},
   "outputs": [],
   "source": []
  },
  {
   "cell_type": "code",
   "execution_count": null,
   "metadata": {},
   "outputs": [],
   "source": []
  }
 ],
 "metadata": {
  "kernelspec": {
   "display_name": "Python 3",
   "language": "python",
   "name": "python3"
  },
  "language_info": {
   "codemirror_mode": {
    "name": "ipython",
    "version": 3
   },
   "file_extension": ".py",
   "mimetype": "text/x-python",
   "name": "python",
   "nbconvert_exporter": "python",
   "pygments_lexer": "ipython3",
   "version": "3.7.3"
  }
 },
 "nbformat": 4,
 "nbformat_minor": 4
}
